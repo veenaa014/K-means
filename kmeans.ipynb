{
 "cells": [
  {
   "cell_type": "code",
   "execution_count": 1,
   "metadata": {},
   "outputs": [],
   "source": [
    "import matplotlib.pyplot as plt "
   ]
  },
  {
   "cell_type": "code",
   "execution_count": 2,
   "metadata": {},
   "outputs": [],
   "source": [
    "#data as rdd and centroids as numpy array\n",
    "import numpy as np\n",
    "import pandas as pd\n",
    "import re\n",
    "import sys \n",
    "from pyspark import SparkConf, SparkContext\n",
    "\n",
    "from pyspark.sql import SQLContext\n",
    "from scipy.spatial import distance\n",
    "from pyspark.sql import Row\n",
    "\n",
    "conf = SparkConf()\n",
    "sc = SparkContext(conf = conf)\n",
    "\n",
    "\n",
    "# def Euclidean(A,B):\n",
    "#     return np.sqrt(sum((A-B)**2))\n",
    "# def ManhattanDistance(A, B):\n",
    "#     return sum([abs(a-b) for a,b in zip(A,B)])\n"
   ]
  },
  {
   "cell_type": "code",
   "execution_count": 3,
   "metadata": {},
   "outputs": [],
   "source": [
    "c1 = np.loadtxt(\"c1.txt\")\n",
    "data = (sc.textFile(\"data.txt\").map(lambda s: np.fromstring(s, dtype=np.float64, sep=\" \")))\n",
    "c2 = np.loadtxt(\"c2.txt\")\n",
    "# sampledata = (sc.textFile(\"sampledata.txt\").map(lambda s: np.fromstring(s, dtype=np.float64, sep=\" \")))\n"
   ]
  },
  {
   "cell_type": "code",
   "execution_count": 4,
   "metadata": {},
   "outputs": [],
   "source": [
    "# dict = {}\n",
    "# def firstCentroid(r):\n",
    "# #     for r in range(13):\n",
    "#     list = []\n",
    "#     starttime = time.time()\n",
    "#     min = 2147483647 #minimum distance \n",
    "#     index = 2147483647 #junk value\n",
    "\n",
    "#     for i in range(10):\n",
    "#         c = (Euclidean(data.take(4601)[r], c1.take(10)[i]))\n",
    "#         if c < min:\n",
    "#             index = i #chosen centroid index\n",
    "#             min = c # Euclidean distance\n",
    "#         if c == 0.00:\n",
    "#             break\n",
    "#     print('point, centroid index : data [{}], c[{}]'.format(r,index))\n",
    "#     print ('Euclidean distance ',min)\n",
    "#     endtime = time.time()\n",
    "#     print ('runtime for data[{}],centroid[{}] is {}'.format(r,index,(endtime - starttime)))\n",
    "#         print('\\tend of iteration : ', r)\n",
    "#     print(\"\\nExiting the loop\")\n",
    "#     dict[index] = r\n",
    "#     return (index,r) #returning centroid index, data point index\n",
    "        "
   ]
  },
  {
   "cell_type": "code",
   "execution_count": 5,
   "metadata": {},
   "outputs": [],
   "source": [
    "import time"
   ]
  },
  {
   "cell_type": "markdown",
   "metadata": {},
   "source": [
    "# Driver Function"
   ]
  },
  {
   "cell_type": "code",
   "execution_count": 9,
   "metadata": {},
   "outputs": [],
   "source": [
    "def kmeans(data,c1,iterations,euclidean_distance):\n",
    "    listcost = []\n",
    "    if(euclidean_distance==True):\n",
    "        \n",
    "#         starttime = time.time()\n",
    "        for i in range(iterations):\n",
    "            temp2 = data.map(lambda v : (v, np.array([distance.euclidean(v,c) for c in c1])))#returns datapoint, list of euclidean distances\n",
    "\n",
    "                # type(c1)\n",
    "\n",
    "                # temp2.take(19)[18]\n",
    "\n",
    "            temp3 = temp2.map(lambda v: (np.argmin(v[1]),v[0])) \n",
    "\n",
    "                # # temp.groupByKey().map(lambda x : (x[0], list(x[1]))).collect()\n",
    "                # grptemp = temp3.groupByKey().map(lambda u : (u[0],np.asarray(list(u[1]))))\n",
    "\n",
    "            # temp3.take(19)[18]\n",
    "\n",
    "                # temp3.count()\n",
    "\n",
    "            cost = temp3.map(lambda v : (distance.euclidean(v[1],c1[v[0]])**2 )).sum()\n",
    "\n",
    "            #     print('This is the value of cost after iteration', i)\n",
    "            print('Iteration :', i+1 ,':',cost)\n",
    "            listcost.append(cost)\n",
    "\n",
    "            grptemp = temp3.groupByKey().map(lambda u : (u[0],np.asarray(list(u[1]))))\n",
    "\n",
    "            # grptemp.take(2)[0]\n",
    "\n",
    "                # # print np.mean(a, axis = 0) \n",
    "            newmeans = grptemp.map(lambda u: (u[0], np.mean(u[1], axis = 0)))\n",
    "\n",
    "            # newmeans.collect()\n",
    "\n",
    "            newIndexCentroid = newmeans.sortByKey()\n",
    "\n",
    "            #     # newIndexCentroid.collect()\n",
    "            #     i +=1\n",
    "            newcentroids1 = newIndexCentroid.map(lambda u: u[1])\n",
    "            c1 = np.array(newcentroids1.collect())\n",
    "#         endtime = time.time()\n",
    "    elif(euclidean_distance==False):\n",
    "        #listcost = []\n",
    "#         starttime = time.time()\n",
    "        for i in range(iterations):\n",
    "            temp2 = data.map(lambda v : (v, np.array([distance.cityblock(v,c) for c in c1])))\n",
    "\n",
    "                # type(c1)\n",
    "\n",
    "                # temp2.take(19)[18]\n",
    "\n",
    "            temp3 = temp2.map(lambda v: (np.argmin(v[1]),v[0]))\n",
    "\n",
    "                # # temp.groupByKey().map(lambda x : (x[0], list(x[1]))).collect()\n",
    "                # grptemp = temp3.groupByKey().map(lambda u : (u[0],np.asarray(list(u[1]))))\n",
    "\n",
    "            # temp3.take(19)[18]\n",
    "\n",
    "                # temp3.count()\n",
    "\n",
    "            cost = temp3.map(lambda v : (distance.cityblock(v[1],c1[v[0]]) )).sum()\n",
    "\n",
    "            #     print('This is the value of cost after iteration', i)\n",
    "            print('Iteration  ' , i+1 ,':',cost)\n",
    "            listcost.append(cost)\n",
    "\n",
    "            grptemp = temp3.groupByKey().map(lambda u : (u[0],np.asarray(list(u[1]))))\n",
    "\n",
    "            # grptemp.take(2)[0]\n",
    "\n",
    "                # # print np.mean(a, axis = 0) \n",
    "            newmeans = grptemp.map(lambda u: (u[0], np.mean(u[1], axis = 0)))\n",
    "\n",
    "            # newmeans.collect()\n",
    "\n",
    "            newIndexCentroid = newmeans.sortByKey()\n",
    "\n",
    "            #     # newIndexCentroid.collect()\n",
    "            #     i +=1\n",
    "            newcentroids1 = newIndexCentroid.map(lambda u: u[1])\n",
    "            c1 = np.array(newcentroids1.collect())\n",
    "#         endtime = time.time()\n",
    "    return listcost"
   ]
  },
  {
   "cell_type": "code",
   "execution_count": 10,
   "metadata": {},
   "outputs": [],
   "source": [
    "# print(endtime - starttime)"
   ]
  },
  {
   "cell_type": "markdown",
   "metadata": {},
   "source": [
    "# C1 Euclidean distance"
   ]
  },
  {
   "cell_type": "code",
   "execution_count": 11,
   "metadata": {},
   "outputs": [
    {
     "name": "stdout",
     "output_type": "stream",
     "text": [
      "Iteration : 1 : 623660345.3064115\n",
      "Iteration : 2 : 509862908.2975454\n",
      "Iteration : 3 : 485480681.87200826\n",
      "Iteration : 4 : 463997011.68501294\n",
      "Iteration : 5 : 460969266.5729968\n",
      "Iteration : 6 : 460537847.9827684\n",
      "Iteration : 7 : 460313099.6535447\n",
      "Iteration : 8 : 460003523.8894082\n",
      "Iteration : 9 : 459570539.3177352\n",
      "Iteration : 10 : 459021103.3422909\n",
      "Iteration : 11 : 458490656.1919812\n",
      "Iteration : 12 : 457944232.5879751\n",
      "Iteration : 13 : 457558005.19867724\n",
      "Iteration : 14 : 457290136.35230196\n",
      "Iteration : 15 : 457050555.0595629\n",
      "Iteration : 16 : 456892235.6153559\n",
      "Iteration : 17 : 456703630.7370345\n",
      "Iteration : 18 : 456404203.01897514\n",
      "Iteration : 19 : 456177800.541994\n",
      "Iteration : 20 : 455986871.02734685\n"
     ]
    }
   ],
   "source": [
    "listcost=kmeans(data,c1,20,True)"
   ]
  },
  {
   "cell_type": "code",
   "execution_count": 12,
   "metadata": {},
   "outputs": [
    {
     "name": "stdout",
     "output_type": "stream",
     "text": [
      "[623660345, 509862908, 485480682, 463997012, 460969267, 460537848, 460313100, 460003524, 459570539, 459021103, 458490656, 457944233, 457558005, 457290136, 457050555, 456892236, 456703631, 456404203, 456177801, 455986871]\n",
      "[1, 2, 3, 4, 5, 6, 7, 8, 9, 10, 11, 12, 13, 14, 15, 16, 17, 18, 19, 20]\n"
     ]
    }
   ],
   "source": [
    "listcost = [round(x) for x in listcost]\n",
    "print(listcost)\n",
    "xlist = []\n",
    "for i in range(1,21):\n",
    "    xlist.append(i)\n",
    "print (xlist)"
   ]
  },
  {
   "cell_type": "code",
   "execution_count": 13,
   "metadata": {},
   "outputs": [
    {
     "data": {
      "image/png": "[encoded data removed]",
      "text/plain": [
       "<Figure size 432x288 with 1 Axes>"
      ]
     },
     "metadata": {
      "needs_background": "light"
     },
     "output_type": "display_data"
    }
   ],
   "source": [
    "plt.plot(xlist, listcost) \n",
    "# naming the x axis \n",
    "plt.xlabel('No of iterations') \n",
    "# naming the y axis \n",
    "plt.ylabel('Cost function') \n",
    "plt.xticks(xlist)\n",
    "# giving a title to my graph \n",
    "plt.title('Euclidean distance on c1.txt') \n",
    "# function to show the plot \n",
    "plt.show() \n",
    "\n"
   ]
  },
  {
   "cell_type": "markdown",
   "metadata": {},
   "source": [
    "# C2 Euclidean distance"
   ]
  },
  {
   "cell_type": "code",
   "execution_count": 14,
   "metadata": {},
   "outputs": [
    {
     "name": "stdout",
     "output_type": "stream",
     "text": [
      "Iteration : 1 : 438747790.02791756\n",
      "Iteration : 2 : 249803933.62600276\n",
      "Iteration : 3 : 194494814.40631253\n",
      "Iteration : 4 : 169804841.45154318\n",
      "Iteration : 5 : 156295748.80627593\n",
      "Iteration : 6 : 149094208.10896596\n",
      "Iteration : 7 : 142508531.61961532\n",
      "Iteration : 8 : 132303869.40652987\n",
      "Iteration : 9 : 117170969.83719078\n",
      "Iteration : 10 : 108547377.17857003\n",
      "Iteration : 11 : 102237203.3179959\n",
      "Iteration : 12 : 98278015.74975666\n",
      "Iteration : 13 : 95630226.12177409\n",
      "Iteration : 14 : 93793314.051193\n",
      "Iteration : 15 : 92377131.96821065\n",
      "Iteration : 16 : 91541606.25423889\n",
      "Iteration : 17 : 91045573.83042456\n",
      "Iteration : 18 : 90752240.10140806\n",
      "Iteration : 19 : 90470170.18122731\n",
      "Iteration : 20 : 90216416.1756313\n"
     ]
    }
   ],
   "source": [
    "listcost=kmeans(data,c2,20,True)"
   ]
  },
  {
   "cell_type": "code",
   "execution_count": 16,
   "metadata": {},
   "outputs": [
    {
     "name": "stdout",
     "output_type": "stream",
     "text": [
      "[438747790, 249803934, 194494814, 169804841, 156295749, 149094208, 142508532, 132303869, 117170970, 108547377, 102237203, 98278016, 95630226, 93793314, 92377132, 91541606, 91045574, 90752240, 90470170, 90216416]\n",
      "[1, 2, 3, 4, 5, 6, 7, 8, 9, 10, 11, 12, 13, 14, 15, 16, 17, 18, 19, 20]\n"
     ]
    }
   ],
   "source": [
    "listcost = [round(x) for x in listcost]\n",
    "print(listcost)\n",
    "xlist = []\n",
    "for i in range(1,21):\n",
    "    xlist.append(i)\n",
    "print (xlist)"
   ]
  },
  {
   "cell_type": "code",
   "execution_count": 17,
   "metadata": {},
   "outputs": [
    {
     "data": {
      "image/png": "[encoded data removed]",
      "text/plain": [
       "<Figure size 432x288 with 1 Axes>"
      ]
     },
     "metadata": {
      "needs_background": "light"
     },
     "output_type": "display_data"
    }
   ],
   "source": [
    "# Euclidean distance on c2.txt\n",
    "\n",
    "plt.plot(xlist, listcost) \n",
    "# naming the x axis \n",
    "plt.xlabel('No of iterations') \n",
    "# naming the y axis \n",
    "plt.ylabel('Cost function') \n",
    "plt.xticks(xlist)\n",
    "# giving a title to my graph \n",
    "plt.title('Euclidean distance on c2.txt') \n",
    "# function to show the plot \n",
    "plt.show() \n",
    "\n"
   ]
  },
  {
   "cell_type": "markdown",
   "metadata": {},
   "source": [
    "# Manhattan distance on C1"
   ]
  },
  {
   "cell_type": "code",
   "execution_count": 18,
   "metadata": {},
   "outputs": [
    {
     "name": "stdout",
     "output_type": "stream",
     "text": [
      "Iteration   1 : 550117.1419999995\n",
      "Iteration   2 : 464829.2684039448\n",
      "Iteration   3 : 470934.15384668094\n",
      "Iteration   4 : 483874.81628509343\n",
      "Iteration   5 : 489234.23478834634\n",
      "Iteration   6 : 487664.6926267904\n",
      "Iteration   7 : 483718.6659285149\n",
      "Iteration   8 : 475337.9476330566\n",
      "Iteration   9 : 474871.9665496566\n",
      "Iteration   10 : 457244.7897417528\n",
      "Iteration   11 : 447493.1956040521\n",
      "Iteration   12 : 450891.8358047706\n",
      "Iteration   13 : 451232.57747569657\n",
      "Iteration   14 : 451860.12588546576\n",
      "Iteration   15 : 451567.2235891488\n",
      "Iteration   16 : 452710.0520999437\n",
      "Iteration   17 : 453078.22696184996\n",
      "Iteration   18 : 450646.13556209404\n",
      "Iteration   19 : 450419.9701134367\n",
      "Iteration   20 : 449009.5903718855\n"
     ]
    }
   ],
   "source": [
    "listcost=kmeans(data,c1,20,False)"
   ]
  },
  {
   "cell_type": "code",
   "execution_count": 19,
   "metadata": {},
   "outputs": [
    {
     "name": "stdout",
     "output_type": "stream",
     "text": [
      "[550117.0, 464829.0, 470934.0, 483875.0, 489234.0, 487665.0, 483719.0, 475338.0, 474872.0, 457245.0, 447493.0, 450892.0, 451233.0, 451860.0, 451567.0, 452710.0, 453078.0, 450646.0, 450420.0, 449010.0]\n",
      "[1, 2, 3, 4, 5, 6, 7, 8, 9, 10, 11, 12, 13, 14, 15, 16, 17, 18, 19, 20]\n"
     ]
    }
   ],
   "source": [
    "listcost = [round(x) for x in listcost]\n",
    "print(listcost)\n",
    "xlist = []\n",
    "for i in range(1,21):\n",
    "    xlist.append(i)\n",
    "print (xlist)"
   ]
  },
  {
   "cell_type": "code",
   "execution_count": 20,
   "metadata": {},
   "outputs": [
    {
     "data": {
      "image/png": "[encoded data removed]",
      "text/plain": [
       "<Figure size 432x288 with 1 Axes>"
      ]
     },
     "metadata": {
      "needs_background": "light"
     },
     "output_type": "display_data"
    }
   ],
   "source": [
    "# Manhattan distance on c1.txt\n",
    "\n",
    "plt.plot(xlist, listcost) \n",
    "# naming the x axis \n",
    "plt.xlabel('No of iterations') \n",
    "# naming the y axis \n",
    "plt.ylabel('Cost function') \n",
    "plt.xticks(xlist)\n",
    "# giving a title to my graph \n",
    "plt.title('Manhattan distance on c1.txt') \n",
    "# function to show the plot \n",
    "plt.show() \n",
    "\n"
   ]
  },
  {
   "cell_type": "markdown",
   "metadata": {},
   "source": [
    "# Manhattan distance on C2"
   ]
  },
  {
   "cell_type": "code",
   "execution_count": 21,
   "metadata": {},
   "outputs": [
    {
     "name": "stdout",
     "output_type": "stream",
     "text": [
      "Iteration   1 : 1433739.3099999954\n",
      "Iteration   2 : 1084488.7769648773\n",
      "Iteration   3 : 973431.7146620404\n",
      "Iteration   4 : 895934.592563071\n",
      "Iteration   5 : 865128.3352940815\n",
      "Iteration   6 : 845846.647031348\n",
      "Iteration   7 : 827219.5827561249\n",
      "Iteration   8 : 803590.3456011118\n",
      "Iteration   9 : 756039.5172761207\n",
      "Iteration   10 : 717332.9025432297\n",
      "Iteration   11 : 694587.9252526882\n",
      "Iteration   12 : 684444.5019967904\n",
      "Iteration   13 : 674574.7475478561\n",
      "Iteration   14 : 667409.469916028\n",
      "Iteration   15 : 663556.6278215044\n",
      "Iteration   16 : 660162.7772287563\n",
      "Iteration   17 : 656041.3222947121\n",
      "Iteration   18 : 653036.7540731612\n",
      "Iteration   19 : 651112.4262522729\n",
      "Iteration   20 : 649689.0131843555\n"
     ]
    }
   ],
   "source": [
    "listcost=kmeans(data,c2,20,False)"
   ]
  },
  {
   "cell_type": "code",
   "execution_count": 22,
   "metadata": {},
   "outputs": [
    {
     "name": "stdout",
     "output_type": "stream",
     "text": [
      "[1433739.0, 1084489.0, 973432.0, 895935.0, 865128.0, 845847.0, 827220.0, 803590.0, 756040.0, 717333.0, 694588.0, 684445.0, 674575.0, 667409.0, 663557.0, 660163.0, 656041.0, 653037.0, 651112.0, 649689.0]\n",
      "[1, 2, 3, 4, 5, 6, 7, 8, 9, 10, 11, 12, 13, 14, 15, 16, 17, 18, 19, 20]\n"
     ]
    }
   ],
   "source": [
    "listcost = [round(x) for x in listcost]\n",
    "print(listcost)\n",
    "xlist = []\n",
    "for i in range(1,21):\n",
    "    xlist.append(i)\n",
    "print (xlist)"
   ]
  },
  {
   "cell_type": "code",
   "execution_count": 23,
   "metadata": {},
   "outputs": [
    {
     "data": {
      "image/png": "[encoded data removed]",
      "text/plain": [
       "<Figure size 432x288 with 1 Axes>"
      ]
     },
     "metadata": {
      "needs_background": "light"
     },
     "output_type": "display_data"
    }
   ],
   "source": [
    "# Manhattan distance on c2.txt\n",
    "\n",
    "plt.plot(xlist, listcost) \n",
    "# naming the x axis \n",
    "plt.xlabel('No of iterations') \n",
    "# naming the y axis \n",
    "plt.ylabel('Cost function') \n",
    "plt.xticks(xlist)\n",
    "# giving a title to my graph \n",
    "plt.title('Manhattan distance on c2.txt') \n",
    "# function to show the plot \n",
    "plt.show() \n"
   ]
  },
  {
   "cell_type": "code",
   "execution_count": null,
   "metadata": {},
   "outputs": [],
   "source": []
  }
 ],
 "metadata": {
  "kernelspec": {
   "display_name": "Python 3",
   "language": "python",
   "name": "python3"
  },
  "language_info": {
   "codemirror_mode": {
    "name": "ipython",
    "version": 3
   },
   "file_extension": ".py",
   "mimetype": "text/x-python",
   "name": "python",
   "nbconvert_exporter": "python",
   "pygments_lexer": "ipython3",
   "version": "3.7.3"
  }
 },
 "nbformat": 4,
 "nbformat_minor": 2
}
